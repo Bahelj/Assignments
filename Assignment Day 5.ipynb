{
 "cells": [
  {
   "cell_type": "code",
   "execution_count": 1,
   "id": "587fa295-75e1-48ec-8ee4-e7d7663364f2",
   "metadata": {},
   "outputs": [],
   "source": [
    "a=100\n",
    "b=200"
   ]
  },
  {
   "cell_type": "code",
   "execution_count": 4,
   "id": "54d0610c-0041-44cf-aa28-18e02c9af9ee",
   "metadata": {},
   "outputs": [
    {
     "name": "stdout",
     "output_type": "stream",
     "text": [
      "b is greater than a\n"
     ]
    }
   ],
   "source": [
    "if b>a:\n",
    "   print(\"b is greater than a\")"
   ]
  },
  {
   "cell_type": "code",
   "execution_count": 5,
   "id": "cd5f5fa3-7f46-49bf-ac47-69faba97ea2a",
   "metadata": {},
   "outputs": [
    {
     "name": "stdout",
     "output_type": "stream",
     "text": [
      "b is greater than a\n"
     ]
    }
   ],
   "source": [
    "if a<b:\n",
    "    print(\"b is greater than a\")"
   ]
  },
  {
   "cell_type": "code",
   "execution_count": 6,
   "id": "eb1e055b-4d1c-4dfc-a182-d7c9f6c66402",
   "metadata": {},
   "outputs": [],
   "source": [
    "a=100\n",
    "b=100"
   ]
  },
  {
   "cell_type": "code",
   "execution_count": 10,
   "id": "3f2072ad-6089-488c-afb3-7fd246d81685",
   "metadata": {},
   "outputs": [
    {
     "name": "stdout",
     "output_type": "stream",
     "text": [
      "a and b are equal\n"
     ]
    }
   ],
   "source": [
    "if b>a:\n",
    "   print(\"b is greater than a\")\n",
    "else:\n",
    "   print(\"a and b are equal\")"
   ]
  },
  {
   "cell_type": "code",
   "execution_count": 12,
   "id": "1b95206b-821a-41dc-988b-7ec05f72f311",
   "metadata": {},
   "outputs": [
    {
     "name": "stdout",
     "output_type": "stream",
     "text": [
      "a is equal to b\n"
     ]
    }
   ],
   "source": [
    "if b>a:\n",
    "    print(\"b is greater than a\")\n",
    "elif a==b:\n",
    "    print(\"a is equal to b\")\n",
    "else:\n",
    "    print(\"b is smaller than a\")"
   ]
  },
  {
   "cell_type": "code",
   "execution_count": 13,
   "id": "99844055-925a-424b-9126-47473818bb02",
   "metadata": {},
   "outputs": [],
   "source": [
    "a=150\n",
    "b=100"
   ]
  },
  {
   "cell_type": "code",
   "execution_count": 14,
   "id": "4a2d53a4-6dbb-4707-8e19-f50cabc91062",
   "metadata": {},
   "outputs": [
    {
     "name": "stdout",
     "output_type": "stream",
     "text": [
      "b is smaller than a\n"
     ]
    }
   ],
   "source": [
    "if b>a:\n",
    "    print(\"b is greater than a\")\n",
    "elif a==b:\n",
    "    print(\"a is equal to b\")\n",
    "else:\n",
    "    print(\"b is smaller than a\")"
   ]
  },
  {
   "cell_type": "code",
   "execution_count": 15,
   "id": "3e8431dc-448d-4a2e-b261-fcd1f7b39518",
   "metadata": {},
   "outputs": [],
   "source": [
    "a=100\n",
    "b=150"
   ]
  },
  {
   "cell_type": "code",
   "execution_count": 16,
   "id": "57bd07da-ca34-41bd-b6b0-53eb3d8a81f7",
   "metadata": {},
   "outputs": [
    {
     "name": "stdout",
     "output_type": "stream",
     "text": [
      "b is greater than a\n"
     ]
    }
   ],
   "source": [
    "if b>a:\n",
    "    print(\"b is greater than a\")\n",
    "elif a==b:\n",
    "    print(\"a is equal to b\")\n",
    "else:\n",
    "    print(\"b is smaller than a\")"
   ]
  },
  {
   "cell_type": "code",
   "execution_count": 17,
   "id": "cb2f0a6e-3dd8-42c2-9ebf-0d494771d64a",
   "metadata": {},
   "outputs": [],
   "source": [
    "a=(\"apple\", \"banana\", \"cherry\")"
   ]
  },
  {
   "cell_type": "code",
   "execution_count": 18,
   "id": "74a9b910-9781-4c97-aad2-82701e821e0e",
   "metadata": {},
   "outputs": [
    {
     "data": {
      "text/plain": [
       "tuple"
      ]
     },
     "execution_count": 18,
     "metadata": {},
     "output_type": "execute_result"
    }
   ],
   "source": [
    "type(a)"
   ]
  },
  {
   "cell_type": "code",
   "execution_count": 24,
   "id": "11e77fbf-e40f-4967-9616-7793208264a0",
   "metadata": {},
   "outputs": [
    {
     "name": "stdout",
     "output_type": "stream",
     "text": [
      "('apple', 'banana', 'cherry')\n"
     ]
    }
   ],
   "source": [
    "print(a)"
   ]
  },
  {
   "cell_type": "code",
   "execution_count": 29,
   "id": "0b415c10-9083-44f0-adda-2f89a2476f36",
   "metadata": {},
   "outputs": [
    {
     "name": "stdout",
     "output_type": "stream",
     "text": [
      "apple\n"
     ]
    }
   ],
   "source": [
    "print (a[0])"
   ]
  },
  {
   "cell_type": "code",
   "execution_count": 30,
   "id": "5b75e609-e63a-4874-a0b3-3ddc99fac36b",
   "metadata": {},
   "outputs": [
    {
     "name": "stdout",
     "output_type": "stream",
     "text": [
      "banana\n"
     ]
    }
   ],
   "source": [
    "print (a[1])"
   ]
  },
  {
   "cell_type": "code",
   "execution_count": 31,
   "id": "321f30cf-6528-4746-8627-363d19b4d0ce",
   "metadata": {},
   "outputs": [
    {
     "name": "stdout",
     "output_type": "stream",
     "text": [
      "cherry\n"
     ]
    }
   ],
   "source": [
    "print (a[2])"
   ]
  },
  {
   "cell_type": "code",
   "execution_count": 62,
   "id": "bb57ba41-dfcb-4a71-8a86-0a7e09741625",
   "metadata": {},
   "outputs": [],
   "source": [
    "c=(\"apple\",)"
   ]
  },
  {
   "cell_type": "code",
   "execution_count": 63,
   "id": "042f7e8c-705a-410d-aeda-2f99c9716923",
   "metadata": {},
   "outputs": [
    {
     "data": {
      "text/plain": [
       "tuple"
      ]
     },
     "execution_count": 63,
     "metadata": {},
     "output_type": "execute_result"
    }
   ],
   "source": [
    "type(c)"
   ]
  },
  {
   "cell_type": "code",
   "execution_count": 64,
   "id": "3976fad9-eadd-42e4-b500-e91d59beb9ce",
   "metadata": {},
   "outputs": [
    {
     "name": "stdout",
     "output_type": "stream",
     "text": [
      "('apple',)\n"
     ]
    }
   ],
   "source": [
    "print (c)"
   ]
  },
  {
   "cell_type": "code",
   "execution_count": 65,
   "id": "daa02bd2-480f-40b2-82f4-f2a29514616e",
   "metadata": {},
   "outputs": [],
   "source": [
    "a=(\"apple\", \"banana\", \"cherry\")"
   ]
  },
  {
   "cell_type": "code",
   "execution_count": 66,
   "id": "affe7601-8268-4ca0-ac5f-5a32ce50b734",
   "metadata": {},
   "outputs": [
    {
     "data": {
      "text/plain": [
       "tuple"
      ]
     },
     "execution_count": 66,
     "metadata": {},
     "output_type": "execute_result"
    }
   ],
   "source": [
    "type (a)"
   ]
  },
  {
   "cell_type": "code",
   "execution_count": 68,
   "id": "a7d4c439-7de2-4a60-bbbd-ce0d024f894b",
   "metadata": {},
   "outputs": [
    {
     "name": "stdout",
     "output_type": "stream",
     "text": [
      "apple is present\n"
     ]
    }
   ],
   "source": [
    "if\"apple\" in (a):\n",
    "    print(\"apple is present\")\n",
    "else:\n",
    "    print(\"apple is not present\")"
   ]
  },
  {
   "cell_type": "code",
   "execution_count": 2,
   "id": "dd726b2d-5a07-4f16-a1d1-2f6d21f99dd7",
   "metadata": {},
   "outputs": [],
   "source": [
    "a=(\"apple\", \"banana\", \"cherry\")"
   ]
  },
  {
   "cell_type": "code",
   "execution_count": 3,
   "id": "46c88564-39cb-4a86-901d-9363a1898b77",
   "metadata": {},
   "outputs": [
    {
     "data": {
      "text/plain": [
       "tuple"
      ]
     },
     "execution_count": 3,
     "metadata": {},
     "output_type": "execute_result"
    }
   ],
   "source": [
    "type(a)"
   ]
  },
  {
   "cell_type": "code",
   "execution_count": 4,
   "id": "fdb32734-8114-4004-ae7b-c2ccd9390ee0",
   "metadata": {},
   "outputs": [],
   "source": [
    "b = list(a)"
   ]
  },
  {
   "cell_type": "code",
   "execution_count": 5,
   "id": "50a14ecd-2d02-4b17-9f01-7bd8ba1e3e80",
   "metadata": {},
   "outputs": [
    {
     "data": {
      "text/plain": [
       "list"
      ]
     },
     "execution_count": 5,
     "metadata": {},
     "output_type": "execute_result"
    }
   ],
   "source": [
    "type(b)"
   ]
  },
  {
   "cell_type": "code",
   "execution_count": 6,
   "id": "caadd3cd-eeab-4d98-b15f-a9245b4797e7",
   "metadata": {},
   "outputs": [
    {
     "data": {
      "text/plain": [
       "['apple', 'banana', 'cherry']"
      ]
     },
     "execution_count": 6,
     "metadata": {},
     "output_type": "execute_result"
    }
   ],
   "source": [
    "b"
   ]
  },
  {
   "cell_type": "code",
   "execution_count": 7,
   "id": "569a00f5-8c77-40e3-b1c1-a53582061709",
   "metadata": {},
   "outputs": [
    {
     "data": {
      "text/plain": [
       "list"
      ]
     },
     "execution_count": 7,
     "metadata": {},
     "output_type": "execute_result"
    }
   ],
   "source": [
    "type(b)"
   ]
  },
  {
   "cell_type": "code",
   "execution_count": 9,
   "id": "df6c99af-4b9f-4628-9bd2-3a7f3e41d9ca",
   "metadata": {},
   "outputs": [
    {
     "data": {
      "text/plain": [
       "list"
      ]
     },
     "execution_count": 9,
     "metadata": {},
     "output_type": "execute_result"
    }
   ],
   "source": [
    "type(b)"
   ]
  },
  {
   "cell_type": "code",
   "execution_count": 15,
   "id": "d6ba0278-8189-462f-92d1-ef1a02c2bdc7",
   "metadata": {},
   "outputs": [],
   "source": [
    "b[1]=\"kiwi\""
   ]
  },
  {
   "cell_type": "code",
   "execution_count": 16,
   "id": "55748c61-71f5-4ecf-8e47-6ea0b551b2ae",
   "metadata": {},
   "outputs": [
    {
     "data": {
      "text/plain": [
       "['apple', 'kiwi', 'cherry']"
      ]
     },
     "execution_count": 16,
     "metadata": {},
     "output_type": "execute_result"
    }
   ],
   "source": [
    "b"
   ]
  },
  {
   "cell_type": "code",
   "execution_count": 17,
   "id": "17babf07-742e-4944-9583-a56d686b5bc9",
   "metadata": {},
   "outputs": [],
   "source": [
    "a=tuple(b)"
   ]
  },
  {
   "cell_type": "code",
   "execution_count": 18,
   "id": "525b7361-5038-41c8-b2cd-2e5c4266ebc3",
   "metadata": {},
   "outputs": [
    {
     "data": {
      "text/plain": [
       "tuple"
      ]
     },
     "execution_count": 18,
     "metadata": {},
     "output_type": "execute_result"
    }
   ],
   "source": [
    "type(a)"
   ]
  },
  {
   "cell_type": "code",
   "execution_count": 19,
   "id": "568b329e-6bf0-4383-b2d5-e9440eb21b5f",
   "metadata": {},
   "outputs": [
    {
     "name": "stdout",
     "output_type": "stream",
     "text": [
      "('apple', 'kiwi', 'cherry')\n"
     ]
    }
   ],
   "source": [
    "print(a)"
   ]
  },
  {
   "cell_type": "code",
   "execution_count": 23,
   "id": "eefae9c9-b504-47e3-8502-bb48f02cb1fd",
   "metadata": {},
   "outputs": [
    {
     "name": "stdout",
     "output_type": "stream",
     "text": [
      "apple\n"
     ]
    }
   ],
   "source": [
    "print (a[0])"
   ]
  },
  {
   "cell_type": "code",
   "execution_count": 24,
   "id": "cb043461-ef98-4a49-9b07-0c47d577c541",
   "metadata": {},
   "outputs": [
    {
     "name": "stdout",
     "output_type": "stream",
     "text": [
      "kiwi\n"
     ]
    }
   ],
   "source": [
    "print (a[1])"
   ]
  },
  {
   "cell_type": "code",
   "execution_count": 25,
   "id": "dde0631a-8e7c-432e-8785-1c69e746220d",
   "metadata": {},
   "outputs": [
    {
     "name": "stdout",
     "output_type": "stream",
     "text": [
      "cherry\n"
     ]
    }
   ],
   "source": [
    "print (a[2])"
   ]
  },
  {
   "cell_type": "code",
   "execution_count": 26,
   "id": "7e4bbf43-5c27-49c0-afc5-d84b3a2bdb8c",
   "metadata": {},
   "outputs": [],
   "source": [
    "x={\"apple\", \"banana\", \"cherry\"}"
   ]
  },
  {
   "cell_type": "code",
   "execution_count": 27,
   "id": "b7b582db-1fca-4639-8430-6f6f554cd848",
   "metadata": {},
   "outputs": [
    {
     "data": {
      "text/plain": [
       "set"
      ]
     },
     "execution_count": 27,
     "metadata": {},
     "output_type": "execute_result"
    }
   ],
   "source": [
    "type(x)"
   ]
  },
  {
   "cell_type": "code",
   "execution_count": 28,
   "id": "66726a84-1812-4b20-9d71-d1ab87c607c4",
   "metadata": {},
   "outputs": [],
   "source": [
    "y=list(x)"
   ]
  },
  {
   "cell_type": "code",
   "execution_count": 29,
   "id": "f4515a37-22f0-4d48-9420-7315202e7db4",
   "metadata": {},
   "outputs": [
    {
     "data": {
      "text/plain": [
       "list"
      ]
     },
     "execution_count": 29,
     "metadata": {},
     "output_type": "execute_result"
    }
   ],
   "source": [
    "type(y)"
   ]
  },
  {
   "cell_type": "code",
   "execution_count": 30,
   "id": "2546f228-739b-4345-9849-ab1c06b6fb7f",
   "metadata": {},
   "outputs": [
    {
     "name": "stdout",
     "output_type": "stream",
     "text": [
      "['apple', 'banana', 'cherry']\n"
     ]
    }
   ],
   "source": [
    "print(y)"
   ]
  },
  {
   "cell_type": "code",
   "execution_count": 31,
   "id": "862ac5b6-3f7c-46cd-8d20-c5769eb2940c",
   "metadata": {},
   "outputs": [],
   "source": [
    "y[1]=\"organge\""
   ]
  },
  {
   "cell_type": "code",
   "execution_count": 32,
   "id": "e8ec897f-f73c-4529-965d-df6bc7d1b7bc",
   "metadata": {},
   "outputs": [
    {
     "name": "stdout",
     "output_type": "stream",
     "text": [
      "['apple', 'organge', 'cherry']\n"
     ]
    }
   ],
   "source": [
    "print(y)"
   ]
  },
  {
   "cell_type": "code",
   "execution_count": 33,
   "id": "0453286d-37fe-4523-b7bd-1f5c22fe1e83",
   "metadata": {},
   "outputs": [
    {
     "data": {
      "text/plain": [
       "list"
      ]
     },
     "execution_count": 33,
     "metadata": {},
     "output_type": "execute_result"
    }
   ],
   "source": [
    "type(y)"
   ]
  },
  {
   "cell_type": "code",
   "execution_count": 34,
   "id": "9fe27bfb-fc63-468a-be33-08fdc723c29a",
   "metadata": {},
   "outputs": [],
   "source": [
    "y=set(x)"
   ]
  },
  {
   "cell_type": "code",
   "execution_count": 35,
   "id": "a1d37cfe-3cf4-4e2b-aff0-d5560544a746",
   "metadata": {},
   "outputs": [
    {
     "data": {
      "text/plain": [
       "set"
      ]
     },
     "execution_count": 35,
     "metadata": {},
     "output_type": "execute_result"
    }
   ],
   "source": [
    "type(y)"
   ]
  },
  {
   "cell_type": "code",
   "execution_count": 36,
   "id": "e33dc86d-edfd-4fa6-b7b9-d2757b6293d6",
   "metadata": {},
   "outputs": [],
   "source": [
    "a=(\"apple\", \"banana\", \"cherry\")"
   ]
  },
  {
   "cell_type": "code",
   "execution_count": 37,
   "id": "79de6dc2-3e84-43ad-8e03-1aac4a36c057",
   "metadata": {},
   "outputs": [
    {
     "data": {
      "text/plain": [
       "tuple"
      ]
     },
     "execution_count": 37,
     "metadata": {},
     "output_type": "execute_result"
    }
   ],
   "source": [
    "type(a)"
   ]
  },
  {
   "cell_type": "code",
   "execution_count": 44,
   "id": "4fe5e509-6da1-47c3-8e30-9d01ddf2c8d7",
   "metadata": {},
   "outputs": [
    {
     "name": "stdout",
     "output_type": "stream",
     "text": [
      "apple\n",
      "banana\n",
      "cherry\n"
     ]
    }
   ],
   "source": [
    "for (i) in(a):\n",
    "   print(i)"
   ]
  },
  {
   "cell_type": "code",
   "execution_count": 48,
   "id": "402486be-4931-4531-af14-08a656844a41",
   "metadata": {},
   "outputs": [],
   "source": [
    "a1={\"apple\", \"banana\", \"cherry\"}\n",
    "a2={\"pineapple\", \"mango\", \"papaya\"}\n",
    "a3=[\"kiwi\", \"orange\"]"
   ]
  },
  {
   "cell_type": "code",
   "execution_count": 49,
   "id": "5c226fda-03fd-40fa-831f-5a2f2e0f43b9",
   "metadata": {},
   "outputs": [],
   "source": [
    "a1.update(a2)"
   ]
  },
  {
   "cell_type": "code",
   "execution_count": 50,
   "id": "59ec9488-afc0-41ae-9f52-615072ac9748",
   "metadata": {},
   "outputs": [
    {
     "name": "stdout",
     "output_type": "stream",
     "text": [
      "{'banana', 'cherry', 'apple', 'mango', 'papaya', 'pineapple'}\n"
     ]
    }
   ],
   "source": [
    "print(a1)"
   ]
  },
  {
   "cell_type": "code",
   "execution_count": 51,
   "id": "5f7d9aef-1303-4a34-8c8e-8e9b51f8d274",
   "metadata": {},
   "outputs": [],
   "source": [
    "a1.update(a3)"
   ]
  },
  {
   "cell_type": "code",
   "execution_count": 52,
   "id": "e0e0f44c-ebba-4d4e-86c0-419272f29c4b",
   "metadata": {},
   "outputs": [
    {
     "name": "stdout",
     "output_type": "stream",
     "text": [
      "{'banana', 'cherry', 'orange', 'apple', 'mango', 'papaya', 'pineapple', 'kiwi'}\n"
     ]
    }
   ],
   "source": [
    "print(a1)"
   ]
  },
  {
   "cell_type": "code",
   "execution_count": 53,
   "id": "bd5c1456-0ed1-4909-bad6-b7e0cd05e9cf",
   "metadata": {},
   "outputs": [
    {
     "name": "stdout",
     "output_type": "stream",
     "text": [
      "{'mango', 'papaya', 'pineapple'}\n"
     ]
    }
   ],
   "source": [
    "print(a2)"
   ]
  },
  {
   "cell_type": "code",
   "execution_count": 54,
   "id": "b9210a69-a7b4-4b70-b36a-8b107394bab5",
   "metadata": {},
   "outputs": [],
   "source": [
    "a2.update(a3)"
   ]
  },
  {
   "cell_type": "code",
   "execution_count": 56,
   "id": "3edccd62-62c4-4ef6-b00a-36cb9e8cd0b1",
   "metadata": {},
   "outputs": [
    {
     "name": "stdout",
     "output_type": "stream",
     "text": [
      "{'orange', 'mango', 'papaya', 'pineapple', 'kiwi'}\n"
     ]
    }
   ],
   "source": [
    "print(a2)"
   ]
  },
  {
   "cell_type": "code",
   "execution_count": null,
   "id": "f5b71d0d-b931-4349-b9f1-4c19961302b1",
   "metadata": {},
   "outputs": [],
   "source": []
  }
 ],
 "metadata": {
  "kernelspec": {
   "display_name": "Python [conda env:base] *",
   "language": "python",
   "name": "conda-base-py"
  },
  "language_info": {
   "codemirror_mode": {
    "name": "ipython",
    "version": 3
   },
   "file_extension": ".py",
   "mimetype": "text/x-python",
   "name": "python",
   "nbconvert_exporter": "python",
   "pygments_lexer": "ipython3",
   "version": "3.13.5"
  }
 },
 "nbformat": 4,
 "nbformat_minor": 5
}
