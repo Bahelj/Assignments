{
 "cells": [
  {
   "cell_type": "code",
   "execution_count": 2,
   "id": "c682cbc6-c38c-4874-b810-13edc7013909",
   "metadata": {},
   "outputs": [],
   "source": [
    "city= \"Noida\""
   ]
  },
  {
   "cell_type": "raw",
   "id": "ad2db493-d91c-4169-a255-5093d6e44c00",
   "metadata": {},
   "source": [
    "print(city)"
   ]
  },
  {
   "cell_type": "code",
   "execution_count": 3,
   "id": "0d305d37-4fe7-44c5-9855-b7a51ad217f8",
   "metadata": {},
   "outputs": [
    {
     "name": "stdout",
     "output_type": "stream",
     "text": [
      "Noida\n"
     ]
    }
   ],
   "source": [
    "print(city)"
   ]
  },
  {
   "cell_type": "code",
   "execution_count": 4,
   "id": "25489b06-a2be-43ec-9421-df20b54f5262",
   "metadata": {},
   "outputs": [],
   "source": [
    "a=42"
   ]
  },
  {
   "cell_type": "code",
   "execution_count": 5,
   "id": "9cdea470-e577-4ccf-95bf-3ca9dba79cca",
   "metadata": {},
   "outputs": [
    {
     "data": {
      "text/plain": [
       "int"
      ]
     },
     "execution_count": 5,
     "metadata": {},
     "output_type": "execute_result"
    }
   ],
   "source": [
    "type(a)"
   ]
  },
  {
   "cell_type": "code",
   "execution_count": 7,
   "id": "da75f2d0-f5b0-44ef-bbae-0e7c3366f578",
   "metadata": {},
   "outputs": [],
   "source": [
    "a=str(42)"
   ]
  },
  {
   "cell_type": "code",
   "execution_count": 8,
   "id": "d75414e0-25c7-404b-bcfe-ee6258d9b514",
   "metadata": {},
   "outputs": [
    {
     "data": {
      "text/plain": [
       "str"
      ]
     },
     "execution_count": 8,
     "metadata": {},
     "output_type": "execute_result"
    }
   ],
   "source": [
    "type(a)"
   ]
  },
  {
   "cell_type": "code",
   "execution_count": 11,
   "id": "4af9fd9f-d264-469c-8e20-077c06378e07",
   "metadata": {},
   "outputs": [],
   "source": [
    "Name=\"Jatin Bahel\""
   ]
  },
  {
   "cell_type": "code",
   "execution_count": 12,
   "id": "ef542c68-4fbf-46a3-899f-ec2a2c3509a9",
   "metadata": {},
   "outputs": [
    {
     "data": {
      "text/plain": [
       "11"
      ]
     },
     "execution_count": 12,
     "metadata": {},
     "output_type": "execute_result"
    }
   ],
   "source": [
    "len(Name)"
   ]
  },
  {
   "cell_type": "code",
   "execution_count": 13,
   "id": "ddf3af3a-7493-47fa-a753-66df83491016",
   "metadata": {},
   "outputs": [],
   "source": [
    "txt=\"Code Square is helping me learn Data science\""
   ]
  },
  {
   "cell_type": "code",
   "execution_count": 16,
   "id": "853570b6-36b3-43d8-bb25-6c83ccb80869",
   "metadata": {},
   "outputs": [
    {
     "name": "stdout",
     "output_type": "stream",
     "text": [
      "Yes, code is present\n"
     ]
    }
   ],
   "source": [
    "if\"Code\" in txt:\n",
    "   print(\"Yes, code is present\")\n",
    "else:\n",
    "    print(\"No, Code is not present\")"
   ]
  },
  {
   "cell_type": "code",
   "execution_count": null,
   "id": "960e187b-0ca4-4c9d-8e2d-cc424702b5d8",
   "metadata": {},
   "outputs": [],
   "source": []
  }
 ],
 "metadata": {
  "kernelspec": {
   "display_name": "Python [conda env:base] *",
   "language": "python",
   "name": "conda-base-py"
  },
  "language_info": {
   "codemirror_mode": {
    "name": "ipython",
    "version": 3
   },
   "file_extension": ".py",
   "mimetype": "text/x-python",
   "name": "python",
   "nbconvert_exporter": "python",
   "pygments_lexer": "ipython3",
   "version": "3.13.5"
  }
 },
 "nbformat": 4,
 "nbformat_minor": 5
}
