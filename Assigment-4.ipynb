{
 "cells": [
  {
   "cell_type": "code",
   "execution_count": null,
   "id": "9eacae63-8c90-4a5d-aa6c-7b94ecf56de5",
   "metadata": {},
   "outputs": [],
   "source": [
    "Addition, Subtraction, Multiplication, Division, Modulus, Exponentiation, Floor Division"
   ]
  },
  {
   "cell_type": "code",
   "execution_count": 1,
   "id": "66ebc307-fbab-4a5d-b302-680a9c168037",
   "metadata": {},
   "outputs": [
    {
     "data": {
      "text/plain": [
       "15"
      ]
     },
     "execution_count": 1,
     "metadata": {},
     "output_type": "execute_result"
    }
   ],
   "source": [
    "10+5"
   ]
  },
  {
   "cell_type": "code",
   "execution_count": 2,
   "id": "a2a6041e-dc78-4b0b-9b76-40471a12c5d4",
   "metadata": {},
   "outputs": [
    {
     "data": {
      "text/plain": [
       "5"
      ]
     },
     "execution_count": 2,
     "metadata": {},
     "output_type": "execute_result"
    }
   ],
   "source": [
    "10-5"
   ]
  },
  {
   "cell_type": "code",
   "execution_count": 3,
   "id": "32de0364-1437-4de7-abd6-9e63181ed746",
   "metadata": {},
   "outputs": [
    {
     "data": {
      "text/plain": [
       "50"
      ]
     },
     "execution_count": 3,
     "metadata": {},
     "output_type": "execute_result"
    }
   ],
   "source": [
    "10*5"
   ]
  },
  {
   "cell_type": "code",
   "execution_count": 4,
   "id": "7d31a117-53e4-40a8-b94f-327921ec34bb",
   "metadata": {},
   "outputs": [
    {
     "data": {
      "text/plain": [
       "2.0"
      ]
     },
     "execution_count": 4,
     "metadata": {},
     "output_type": "execute_result"
    }
   ],
   "source": [
    "10/5"
   ]
  },
  {
   "cell_type": "code",
   "execution_count": 11,
   "id": "7c9ef6a0-2710-4164-b45a-b1f8eb099f38",
   "metadata": {},
   "outputs": [
    {
     "data": {
      "text/plain": [
       "1"
      ]
     },
     "execution_count": 11,
     "metadata": {},
     "output_type": "execute_result"
    }
   ],
   "source": [
    "11%2"
   ]
  },
  {
   "cell_type": "code",
   "execution_count": 12,
   "id": "93f89f19-6a8f-4410-a530-88cb04d789fa",
   "metadata": {},
   "outputs": [
    {
     "data": {
      "text/plain": [
       "11019960576"
      ]
     },
     "execution_count": 12,
     "metadata": {},
     "output_type": "execute_result"
    }
   ],
   "source": [
    "18**8"
   ]
  },
  {
   "cell_type": "code",
   "execution_count": 10,
   "id": "f301453f-fb46-4a86-82e1-0854f1c26f8f",
   "metadata": {},
   "outputs": [
    {
     "data": {
      "text/plain": [
       "10"
      ]
     },
     "execution_count": 10,
     "metadata": {},
     "output_type": "execute_result"
    }
   ],
   "source": [
    "21//2"
   ]
  },
  {
   "cell_type": "code",
   "execution_count": 14,
   "id": "857cca9f-bdb5-4a18-b80e-91223c4f4030",
   "metadata": {},
   "outputs": [],
   "source": [
    "#Python expressions using comparison operators (less than, greater than, equal to, not equal to) and evaluate them. Include examples with both numbers and strings"
   ]
  },
  {
   "cell_type": "code",
   "execution_count": 15,
   "id": "0916adfa-5e8f-470b-bb6b-59b002a6ce50",
   "metadata": {},
   "outputs": [
    {
     "data": {
      "text/plain": [
       "False"
      ]
     },
     "execution_count": 15,
     "metadata": {},
     "output_type": "execute_result"
    }
   ],
   "source": [
    "100<56"
   ]
  },
  {
   "cell_type": "code",
   "execution_count": 16,
   "id": "aeecfa2a-f06b-4afe-8f65-e25dfc004e0a",
   "metadata": {},
   "outputs": [
    {
     "data": {
      "text/plain": [
       "True"
      ]
     },
     "execution_count": 16,
     "metadata": {},
     "output_type": "execute_result"
    }
   ],
   "source": [
    "100>56"
   ]
  },
  {
   "cell_type": "code",
   "execution_count": 17,
   "id": "1d176080-f6f5-47f3-8211-0cfa07a9557a",
   "metadata": {},
   "outputs": [
    {
     "data": {
      "text/plain": [
       "True"
      ]
     },
     "execution_count": 17,
     "metadata": {},
     "output_type": "execute_result"
    }
   ],
   "source": [
    "100==100"
   ]
  },
  {
   "cell_type": "code",
   "execution_count": 19,
   "id": "a5561dc6-4198-4b4e-b22e-8b90bd9d62a0",
   "metadata": {},
   "outputs": [
    {
     "data": {
      "text/plain": [
       "False"
      ]
     },
     "execution_count": 19,
     "metadata": {},
     "output_type": "execute_result"
    }
   ],
   "source": [
    "100==99"
   ]
  },
  {
   "cell_type": "code",
   "execution_count": 20,
   "id": "db4f74c2-5daa-456d-83cf-2f324208b0d5",
   "metadata": {},
   "outputs": [
    {
     "data": {
      "text/plain": [
       "True"
      ]
     },
     "execution_count": 20,
     "metadata": {},
     "output_type": "execute_result"
    }
   ],
   "source": [
    "100!=99"
   ]
  },
  {
   "cell_type": "code",
   "execution_count": 22,
   "id": "cbc52e1d-eeb5-4158-9351-4cf0449cf669",
   "metadata": {},
   "outputs": [
    {
     "data": {
      "text/plain": [
       "True"
      ]
     },
     "execution_count": 22,
     "metadata": {},
     "output_type": "execute_result"
    }
   ],
   "source": [
    "\"A\"<\"B\""
   ]
  },
  {
   "cell_type": "code",
   "execution_count": 23,
   "id": "31c49241-a878-4841-80f1-fd8beb9a9a0f",
   "metadata": {},
   "outputs": [
    {
     "data": {
      "text/plain": [
       "False"
      ]
     },
     "execution_count": 23,
     "metadata": {},
     "output_type": "execute_result"
    }
   ],
   "source": [
    "\"A\">\"B\""
   ]
  },
  {
   "cell_type": "code",
   "execution_count": 24,
   "id": "f275da8a-c842-4c67-9a6e-d2b2c8def667",
   "metadata": {},
   "outputs": [
    {
     "data": {
      "text/plain": [
       "True"
      ]
     },
     "execution_count": 24,
     "metadata": {},
     "output_type": "execute_result"
    }
   ],
   "source": [
    "\"A\"==\"A\""
   ]
  },
  {
   "cell_type": "code",
   "execution_count": 25,
   "id": "e4424011-1fee-49e3-b5c1-88d35ebfa4d9",
   "metadata": {},
   "outputs": [
    {
     "data": {
      "text/plain": [
       "False"
      ]
     },
     "execution_count": 25,
     "metadata": {},
     "output_type": "execute_result"
    }
   ],
   "source": [
    "\"A\"==\"B\""
   ]
  },
  {
   "cell_type": "code",
   "execution_count": 26,
   "id": "72ed63d5-7bf1-4060-87c3-568192d6047d",
   "metadata": {},
   "outputs": [
    {
     "data": {
      "text/plain": [
       "True"
      ]
     },
     "execution_count": 26,
     "metadata": {},
     "output_type": "execute_result"
    }
   ],
   "source": [
    "\"A\"!=\"B\""
   ]
  },
  {
   "cell_type": "code",
   "execution_count": 27,
   "id": "676a9b24-7d64-49ee-92e6-f806a9bf9acd",
   "metadata": {},
   "outputs": [],
   "source": [
    "A=\"Python Is Powerfull language\""
   ]
  },
  {
   "cell_type": "code",
   "execution_count": 28,
   "id": "fc061893-70d7-4b38-a82d-02f148e67408",
   "metadata": {},
   "outputs": [
    {
     "data": {
      "text/plain": [
       "'Python Is Powerfull language'"
      ]
     },
     "execution_count": 28,
     "metadata": {},
     "output_type": "execute_result"
    }
   ],
   "source": [
    "A"
   ]
  },
  {
   "cell_type": "code",
   "execution_count": 30,
   "id": "a7bb6036-10bd-4609-aaef-b3a129e4bc05",
   "metadata": {},
   "outputs": [
    {
     "name": "stdout",
     "output_type": "stream",
     "text": [
      "True\n"
     ]
    }
   ],
   "source": [
    "print(\"Powerfull\" in A)"
   ]
  },
  {
   "cell_type": "code",
   "execution_count": 33,
   "id": "852d1989-6ace-46e4-8683-94e39c3b560d",
   "metadata": {},
   "outputs": [
    {
     "name": "stdout",
     "output_type": "stream",
     "text": [
      "True\n"
     ]
    }
   ],
   "source": [
    "print(\"Bhasha\" not in A)"
   ]
  },
  {
   "cell_type": "code",
   "execution_count": 35,
   "id": "375c531b-633a-478b-adf2-9f1c33861db5",
   "metadata": {},
   "outputs": [
    {
     "name": "stdout",
     "output_type": "stream",
     "text": [
      "False\n"
     ]
    }
   ],
   "source": [
    "print(\"Is\" not in A)"
   ]
  },
  {
   "cell_type": "code",
   "execution_count": 46,
   "id": "bc3ba328-85d3-482f-bf8c-01a1d3819735",
   "metadata": {},
   "outputs": [],
   "source": [
    "List=[\"Jatin\",1,2,3,4,5,6.0,7.1]"
   ]
  },
  {
   "cell_type": "code",
   "execution_count": 47,
   "id": "bd1f68e6-dd45-41ea-b464-aca0349436bf",
   "metadata": {},
   "outputs": [
    {
     "name": "stdout",
     "output_type": "stream",
     "text": [
      "['Jatin', 1, 2, 3, 4, 5, 6.0, 7.1]\n"
     ]
    }
   ],
   "source": [
    "print(List)"
   ]
  },
  {
   "cell_type": "code",
   "execution_count": 52,
   "id": "f3c7318a-95b2-49e9-90de-567cebc993dc",
   "metadata": {},
   "outputs": [
    {
     "name": "stdout",
     "output_type": "stream",
     "text": [
      "Jatin\n",
      "1\n",
      "2\n",
      "3\n",
      "4\n",
      "5\n",
      "6.0\n",
      "7.1\n"
     ]
    }
   ],
   "source": [
    "for a in (List):\n",
    "    print(a)"
   ]
  },
  {
   "cell_type": "code",
   "execution_count": 69,
   "id": "479ee192-1259-4222-8361-c7aa4d435f1b",
   "metadata": {},
   "outputs": [
    {
     "data": {
      "text/plain": [
       "range(10, 1)"
      ]
     },
     "execution_count": 69,
     "metadata": {},
     "output_type": "execute_result"
    }
   ],
   "source": [
    "range(10,1)"
   ]
  },
  {
   "cell_type": "code",
   "execution_count": 74,
   "id": "adf6e991-dbc2-4852-80ec-99fdd529fead",
   "metadata": {},
   "outputs": [
    {
     "name": "stdout",
     "output_type": "stream",
     "text": [
      "10\n",
      "9\n",
      "8\n",
      "7\n",
      "6\n",
      "5\n",
      "4\n",
      "3\n",
      "2\n",
      "1\n"
     ]
    }
   ],
   "source": [
    "for i in range(10,0,-1):\n",
    "    print(i)"
   ]
  },
  {
   "cell_type": "code",
   "execution_count": null,
   "id": "b12f2907-00b0-4a04-a32f-69050d1aa359",
   "metadata": {},
   "outputs": [],
   "source": [
    "#slicing, negative indexing, converting to uppercase converting to lowercase, stripping whitespace, replacing a substring, and splitting the string"
   ]
  },
  {
   "cell_type": "code",
   "execution_count": 112,
   "id": "939100ea-8861-434e-b179-be517fdaa7cd",
   "metadata": {},
   "outputs": [],
   "source": [
    "A= \"Namastey, India\""
   ]
  },
  {
   "cell_type": "code",
   "execution_count": 78,
   "id": "b7d56ecd-c5bc-41d0-84fd-a1ac0cf58815",
   "metadata": {},
   "outputs": [
    {
     "data": {
      "text/plain": [
       "'astey India'"
      ]
     },
     "execution_count": 78,
     "metadata": {},
     "output_type": "execute_result"
    }
   ],
   "source": [
    "A[3:]"
   ]
  },
  {
   "cell_type": "code",
   "execution_count": 79,
   "id": "075ae6c5-7658-4550-b065-1adf5a3078b8",
   "metadata": {},
   "outputs": [
    {
     "data": {
      "text/plain": [
       "'mastey India'"
      ]
     },
     "execution_count": 79,
     "metadata": {},
     "output_type": "execute_result"
    }
   ],
   "source": [
    "A[2:]"
   ]
  },
  {
   "cell_type": "code",
   "execution_count": 80,
   "id": "135499b5-e47f-4730-9dff-dfa259f91ebd",
   "metadata": {},
   "outputs": [
    {
     "data": {
      "text/plain": [
       "'amastey India'"
      ]
     },
     "execution_count": 80,
     "metadata": {},
     "output_type": "execute_result"
    }
   ],
   "source": [
    "A[1:]"
   ]
  },
  {
   "cell_type": "code",
   "execution_count": 81,
   "id": "7e08cd89-a50b-44e0-a26e-f37cbf8bab56",
   "metadata": {},
   "outputs": [
    {
     "data": {
      "text/plain": [
       "'Namastey India'"
      ]
     },
     "execution_count": 81,
     "metadata": {},
     "output_type": "execute_result"
    }
   ],
   "source": [
    "A[0:]"
   ]
  },
  {
   "cell_type": "code",
   "execution_count": 82,
   "id": "f8cb4bdf-e301-4e8a-8813-62cc06b18c71",
   "metadata": {},
   "outputs": [
    {
     "data": {
      "text/plain": [
       "'a'"
      ]
     },
     "execution_count": 82,
     "metadata": {},
     "output_type": "execute_result"
    }
   ],
   "source": [
    "A[-1]"
   ]
  },
  {
   "cell_type": "code",
   "execution_count": 83,
   "id": "d9b56fab-7931-4365-8e91-b238a0aacf92",
   "metadata": {},
   "outputs": [
    {
     "data": {
      "text/plain": [
       "'a'"
      ]
     },
     "execution_count": 83,
     "metadata": {},
     "output_type": "execute_result"
    }
   ],
   "source": [
    "A[-11]"
   ]
  },
  {
   "cell_type": "code",
   "execution_count": 84,
   "id": "5b7d6f75-6dff-476b-8ff2-5443691090c5",
   "metadata": {},
   "outputs": [
    {
     "data": {
      "text/plain": [
       "'m'"
      ]
     },
     "execution_count": 84,
     "metadata": {},
     "output_type": "execute_result"
    }
   ],
   "source": [
    "A[-12]"
   ]
  },
  {
   "cell_type": "code",
   "execution_count": 85,
   "id": "f236e470-ab88-4f59-b11f-c3a7c19e380d",
   "metadata": {},
   "outputs": [
    {
     "data": {
      "text/plain": [
       "'N'"
      ]
     },
     "execution_count": 85,
     "metadata": {},
     "output_type": "execute_result"
    }
   ],
   "source": [
    "A[-14]"
   ]
  },
  {
   "cell_type": "code",
   "execution_count": 96,
   "id": "658bafc0-e82e-4e8c-ae1f-0d35583ea570",
   "metadata": {},
   "outputs": [
    {
     "data": {
      "text/plain": [
       "'Namastey India'"
      ]
     },
     "execution_count": 96,
     "metadata": {},
     "output_type": "execute_result"
    }
   ],
   "source": [
    "A[-16:]"
   ]
  },
  {
   "cell_type": "code",
   "execution_count": 102,
   "id": "76363530-dd04-41ec-baf2-6b9491ef3109",
   "metadata": {},
   "outputs": [
    {
     "data": {
      "text/plain": [
       "'aidnI yetsamaN'"
      ]
     },
     "execution_count": 102,
     "metadata": {},
     "output_type": "execute_result"
    }
   ],
   "source": [
    "A[::-1]"
   ]
  },
  {
   "cell_type": "code",
   "execution_count": 104,
   "id": "ff5315ff-d0ba-4031-bda0-6711e7b5643e",
   "metadata": {},
   "outputs": [
    {
     "data": {
      "text/plain": [
       "'namastey india'"
      ]
     },
     "execution_count": 104,
     "metadata": {},
     "output_type": "execute_result"
    }
   ],
   "source": [
    "A.lower()"
   ]
  },
  {
   "cell_type": "code",
   "execution_count": 105,
   "id": "e1b2c9a0-7b47-4512-90cf-87a73fdb7e5e",
   "metadata": {},
   "outputs": [
    {
     "data": {
      "text/plain": [
       "'NAMASTEY INDIA'"
      ]
     },
     "execution_count": 105,
     "metadata": {},
     "output_type": "execute_result"
    }
   ],
   "source": [
    "A.upper()"
   ]
  },
  {
   "cell_type": "code",
   "execution_count": 113,
   "id": "abe7d0eb-2b23-4131-9967-85b80e55827d",
   "metadata": {},
   "outputs": [
    {
     "data": {
      "text/plain": [
       "'Namastey, India'"
      ]
     },
     "execution_count": 113,
     "metadata": {},
     "output_type": "execute_result"
    }
   ],
   "source": [
    "A.strip()"
   ]
  },
  {
   "cell_type": "code",
   "execution_count": 120,
   "id": "f8495047-1daf-4d92-b6c6-21a9d7843fd1",
   "metadata": {},
   "outputs": [
    {
     "data": {
      "text/plain": [
       "['N', 'm', 'stey, Indi', '']"
      ]
     },
     "execution_count": 120,
     "metadata": {},
     "output_type": "execute_result"
    }
   ],
   "source": [
    "A.split(\"a\")"
   ]
  },
  {
   "cell_type": "code",
   "execution_count": 145,
   "id": "85d0e899-3869-46e7-b01a-77644e98da3d",
   "metadata": {},
   "outputs": [
    {
     "data": {
      "text/plain": [
       "'Jamastey, India'"
      ]
     },
     "execution_count": 145,
     "metadata": {},
     "output_type": "execute_result"
    }
   ],
   "source": [
    "A.replace(\"N\",\"J\")"
   ]
  },
  {
   "cell_type": "code",
   "execution_count": 128,
   "id": "93bc8285-6406-4656-a068-20289bf11b38",
   "metadata": {},
   "outputs": [],
   "source": [
    "List=[1,2,3,4,5,True,False,3.3,\"A,B\"]"
   ]
  },
  {
   "cell_type": "code",
   "execution_count": 131,
   "id": "301f61cd-db6c-4051-8241-9ae0d22690d1",
   "metadata": {},
   "outputs": [],
   "source": [
    "List_in_list=[1,2,3,4,5,[1,2,3,4,5,True,False,3.3,\"A,B\"],3.5,\"Jatin\"]"
   ]
  },
  {
   "cell_type": "code",
   "execution_count": 132,
   "id": "15124509-f52d-43f7-b922-c5b174352fc7",
   "metadata": {},
   "outputs": [
    {
     "name": "stdout",
     "output_type": "stream",
     "text": [
      "[1, 2, 3, 4, 5, [1, 2, 3, 4, 5, True, False, 3.3, 'A,B'], 3.5, 'Jatin']\n"
     ]
    }
   ],
   "source": [
    "print(List_in_list)"
   ]
  },
  {
   "cell_type": "code",
   "execution_count": 138,
   "id": "3cf6cf43-6259-40bd-a8ea-dabe8bb5f810",
   "metadata": {},
   "outputs": [
    {
     "name": "stdout",
     "output_type": "stream",
     "text": [
      "[1, 2, 3, 4, 5, [1, 2, 3, 4, 5, True, False, 3.3, 'A,B'], 3.5]\n"
     ]
    }
   ],
   "source": [
    "print((List_in_list)[0:7])"
   ]
  },
  {
   "cell_type": "code",
   "execution_count": 140,
   "id": "d8fb8972-d02f-4cca-a1ed-06ad7383a808",
   "metadata": {},
   "outputs": [
    {
     "name": "stdout",
     "output_type": "stream",
     "text": [
      "['Jatin']\n"
     ]
    }
   ],
   "source": [
    "print((List_in_list)[-1:])"
   ]
  },
  {
   "cell_type": "code",
   "execution_count": 141,
   "id": "939730a5-ef09-4db4-8d31-6c1947f0d0a5",
   "metadata": {},
   "outputs": [
    {
     "name": "stdout",
     "output_type": "stream",
     "text": [
      "[]\n"
     ]
    }
   ],
   "source": [
    "print((List_in_list)[-1:-2])"
   ]
  },
  {
   "cell_type": "code",
   "execution_count": 142,
   "id": "c9dc41a7-f114-41eb-8ccd-74eb0d4a0a90",
   "metadata": {},
   "outputs": [
    {
     "name": "stdout",
     "output_type": "stream",
     "text": [
      "['Jatin', 3.5, [1, 2, 3, 4, 5, True, False, 3.3, 'A,B'], 5, 4, 3, 2, 1]\n"
     ]
    }
   ],
   "source": [
    "print((List_in_list)[::-1])"
   ]
  },
  {
   "cell_type": "code",
   "execution_count": 144,
   "id": "287bf0c0-e887-425a-badd-6f3fdd5dfb15",
   "metadata": {},
   "outputs": [
    {
     "name": "stdout",
     "output_type": "stream",
     "text": [
      "[[1, 2, 3, 4, 5, True, False, 3.3, 'A,B'], 3.5]\n"
     ]
    }
   ],
   "source": [
    "print((List_in_list)[-3:-1])"
   ]
  },
  {
   "cell_type": "code",
   "execution_count": null,
   "id": "85c13257-e9b5-40e9-9429-f9ff2a95d8e6",
   "metadata": {},
   "outputs": [],
   "source": [
    "#append(), insert(), remove(), pop(), and del "
   ]
  },
  {
   "cell_type": "code",
   "execution_count": 213,
   "id": "3aa4c853-03e0-44ce-87f8-d9130fd73ca3",
   "metadata": {},
   "outputs": [],
   "source": [
    "List=[\"Car1,Car2,car3,car4,car5,car6\"]"
   ]
  },
  {
   "cell_type": "code",
   "execution_count": 214,
   "id": "bee0512c-1dbf-4432-a796-9131e3aba7be",
   "metadata": {},
   "outputs": [],
   "source": [
    "List.append(\"car7\")"
   ]
  },
  {
   "cell_type": "code",
   "execution_count": 215,
   "id": "ecf47577-ae9e-4e8f-867f-a6ae2aad7fe8",
   "metadata": {},
   "outputs": [
    {
     "data": {
      "text/plain": [
       "['Car1,Car2,car3,car4,car5,car6', 'car7']"
      ]
     },
     "execution_count": 215,
     "metadata": {},
     "output_type": "execute_result"
    }
   ],
   "source": [
    "List"
   ]
  },
  {
   "cell_type": "code",
   "execution_count": 216,
   "id": "1f606eb0-179d-4761-a2c4-658b27e6c10b",
   "metadata": {},
   "outputs": [],
   "source": [
    "List.insert(0,\"car8\")"
   ]
  },
  {
   "cell_type": "code",
   "execution_count": 217,
   "id": "0d8dbbb1-495d-4684-974b-19538ea44ca1",
   "metadata": {},
   "outputs": [
    {
     "data": {
      "text/plain": [
       "['car8', 'Car1,Car2,car3,car4,car5,car6', 'car7']"
      ]
     },
     "execution_count": 217,
     "metadata": {},
     "output_type": "execute_result"
    }
   ],
   "source": [
    "List"
   ]
  },
  {
   "cell_type": "code",
   "execution_count": 218,
   "id": "1b0b4327-eb50-45f0-9d90-1141694533b1",
   "metadata": {},
   "outputs": [],
   "source": [
    "List.remove( \"car8\")"
   ]
  },
  {
   "cell_type": "code",
   "execution_count": 219,
   "id": "a09a0233-bddc-410e-baa6-99d23c67a026",
   "metadata": {},
   "outputs": [
    {
     "data": {
      "text/plain": [
       "['Car1,Car2,car3,car4,car5,car6', 'car7']"
      ]
     },
     "execution_count": 219,
     "metadata": {},
     "output_type": "execute_result"
    }
   ],
   "source": [
    "List"
   ]
  },
  {
   "cell_type": "code",
   "execution_count": 220,
   "id": "0497370f-995d-442f-a9ab-41b20337b649",
   "metadata": {},
   "outputs": [
    {
     "data": {
      "text/plain": [
       "'car7'"
      ]
     },
     "execution_count": 220,
     "metadata": {},
     "output_type": "execute_result"
    }
   ],
   "source": [
    "List.pop(1)"
   ]
  },
  {
   "cell_type": "code",
   "execution_count": 221,
   "id": "836ef83b-efe4-4298-959d-315aa105b639",
   "metadata": {},
   "outputs": [
    {
     "data": {
      "text/plain": [
       "['Car1,Car2,car3,car4,car5,car6']"
      ]
     },
     "execution_count": 221,
     "metadata": {},
     "output_type": "execute_result"
    }
   ],
   "source": [
    "List"
   ]
  },
  {
   "cell_type": "code",
   "execution_count": 226,
   "id": "1d15094c-69e8-4432-b33f-2d83e13f3874",
   "metadata": {},
   "outputs": [
    {
     "ename": "ValueError",
     "evalue": "list.remove(x): x not in list",
     "output_type": "error",
     "traceback": [
      "\u001b[0;31m---------------------------------------------------------------------------\u001b[0m",
      "\u001b[0;31mValueError\u001b[0m                                Traceback (most recent call last)",
      "Cell \u001b[0;32mIn[226], line 1\u001b[0m\n\u001b[0;32m----> 1\u001b[0m List\u001b[38;5;241m.\u001b[39mremove(\u001b[38;5;124m\"\u001b[39m\u001b[38;5;124mCar1\u001b[39m\u001b[38;5;124m\"\u001b[39m)\n",
      "\u001b[0;31mValueError\u001b[0m: list.remove(x): x not in list"
     ]
    }
   ],
   "source": [
    "List.remove(\"Car1\")"
   ]
  },
  {
   "cell_type": "code",
   "execution_count": 227,
   "id": "56808869-f916-4f5b-af48-dbd03d7664a4",
   "metadata": {},
   "outputs": [
    {
     "data": {
      "text/plain": [
       "['Car1,Car2,car3,car4,car5,car6']"
      ]
     },
     "execution_count": 227,
     "metadata": {},
     "output_type": "execute_result"
    }
   ],
   "source": [
    "List "
   ]
  },
  {
   "cell_type": "code",
   "execution_count": 229,
   "id": "a415d6d9-8f11-416a-aee1-92f317518162",
   "metadata": {},
   "outputs": [],
   "source": [
    "List=['Car1,Car2,car3,car4,car5,car6']"
   ]
  },
  {
   "cell_type": "code",
   "execution_count": 230,
   "id": "57019345-bfc5-4eb2-b57d-32b330e256f9",
   "metadata": {},
   "outputs": [
    {
     "data": {
      "text/plain": [
       "['Car1,Car2,car3,car4,car5,car6']"
      ]
     },
     "execution_count": 230,
     "metadata": {},
     "output_type": "execute_result"
    }
   ],
   "source": [
    "List"
   ]
  },
  {
   "cell_type": "code",
   "execution_count": 236,
   "id": "5924cb56-3f7f-4d22-9fba-c70fb1ac4ac8",
   "metadata": {},
   "outputs": [
    {
     "ename": "ValueError",
     "evalue": "list.remove(x): x not in list",
     "output_type": "error",
     "traceback": [
      "\u001b[0;31m---------------------------------------------------------------------------\u001b[0m",
      "\u001b[0;31mValueError\u001b[0m                                Traceback (most recent call last)",
      "Cell \u001b[0;32mIn[236], line 1\u001b[0m\n\u001b[0;32m----> 1\u001b[0m List\u001b[38;5;241m.\u001b[39mremove(\u001b[38;5;124m\"\u001b[39m\u001b[38;5;124mCar1\u001b[39m\u001b[38;5;124m\"\u001b[39m)\n",
      "\u001b[0;31mValueError\u001b[0m: list.remove(x): x not in list"
     ]
    }
   ],
   "source": [
    "List.remove(\"Car1\")"
   ]
  },
  {
   "cell_type": "code",
   "execution_count": 237,
   "id": "68fcbbb1-d4a7-46ba-9909-23351e940add",
   "metadata": {},
   "outputs": [
    {
     "data": {
      "text/plain": [
       "['Car1,Car2,car3,car4,car5,car6']"
      ]
     },
     "execution_count": 237,
     "metadata": {},
     "output_type": "execute_result"
    }
   ],
   "source": [
    "List"
   ]
  },
  {
   "cell_type": "code",
   "execution_count": 239,
   "id": "1bea8b45-85bf-4528-9e10-6f8b7d59bf7a",
   "metadata": {},
   "outputs": [
    {
     "ename": "ValueError",
     "evalue": "list.remove(x): x not in list",
     "output_type": "error",
     "traceback": [
      "\u001b[0;31m---------------------------------------------------------------------------\u001b[0m",
      "\u001b[0;31mValueError\u001b[0m                                Traceback (most recent call last)",
      "Cell \u001b[0;32mIn[239], line 1\u001b[0m\n\u001b[0;32m----> 1\u001b[0m List\u001b[38;5;241m.\u001b[39mremove(\u001b[38;5;124m'\u001b[39m\u001b[38;5;124mCar1\u001b[39m\u001b[38;5;124m'\u001b[39m)\n",
      "\u001b[0;31mValueError\u001b[0m: list.remove(x): x not in list"
     ]
    }
   ],
   "source": [
    "List.remove('Car1')"
   ]
  },
  {
   "cell_type": "code",
   "execution_count": 240,
   "id": "d4fb68b6-630c-4c81-9c5c-2ceef4b31933",
   "metadata": {},
   "outputs": [],
   "source": [
    "List=['Car1','Car2','car3','car4','car5','car6']"
   ]
  },
  {
   "cell_type": "code",
   "execution_count": 241,
   "id": "25b26187-a272-4426-aeca-6064045034cd",
   "metadata": {},
   "outputs": [
    {
     "data": {
      "text/plain": [
       "['Car1', 'Car2', 'car3', 'car4', 'car5', 'car6']"
      ]
     },
     "execution_count": 241,
     "metadata": {},
     "output_type": "execute_result"
    }
   ],
   "source": [
    "List"
   ]
  },
  {
   "cell_type": "code",
   "execution_count": 242,
   "id": "a8192e8e-6feb-4ea7-bb76-ca824b0f12d3",
   "metadata": {},
   "outputs": [],
   "source": [
    "List.remove('Car1')"
   ]
  },
  {
   "cell_type": "code",
   "execution_count": 243,
   "id": "10b05644-6b39-4cab-8f11-b518302a368e",
   "metadata": {},
   "outputs": [
    {
     "data": {
      "text/plain": [
       "['Car2', 'car3', 'car4', 'car5', 'car6']"
      ]
     },
     "execution_count": 243,
     "metadata": {},
     "output_type": "execute_result"
    }
   ],
   "source": [
    "List"
   ]
  },
  {
   "cell_type": "code",
   "execution_count": 244,
   "id": "a4d9749c-f1ea-404b-bf67-2167dd580954",
   "metadata": {},
   "outputs": [],
   "source": [
    "del List"
   ]
  },
  {
   "cell_type": "code",
   "execution_count": 245,
   "id": "618f1be2-9a22-4656-9cf8-26d86e9de049",
   "metadata": {},
   "outputs": [
    {
     "ename": "NameError",
     "evalue": "name 'List' is not defined",
     "output_type": "error",
     "traceback": [
      "\u001b[0;31m---------------------------------------------------------------------------\u001b[0m",
      "\u001b[0;31mNameError\u001b[0m                                 Traceback (most recent call last)",
      "Cell \u001b[0;32mIn[245], line 1\u001b[0m\n\u001b[0;32m----> 1\u001b[0m List\n",
      "\u001b[0;31mNameError\u001b[0m: name 'List' is not defined"
     ]
    }
   ],
   "source": [
    "List"
   ]
  },
  {
   "cell_type": "code",
   "execution_count": 248,
   "id": "55ba2612-29a4-4cbc-93a0-71548a9aed0d",
   "metadata": {},
   "outputs": [],
   "source": [
    "List_1 = [1,2,3,4,\"power\", True]\n",
    "List_2 = [\"one\", \"two\",\"Three\", \"Data\", False]"
   ]
  },
  {
   "cell_type": "code",
   "execution_count": 253,
   "id": "f36f98e0-66e3-4d31-933e-8a1e3c29faad",
   "metadata": {},
   "outputs": [],
   "source": [
    "Master_List=List_1+List_2"
   ]
  },
  {
   "cell_type": "code",
   "execution_count": 254,
   "id": "f68a8858-6d77-40ed-976e-4d12c96da139",
   "metadata": {},
   "outputs": [
    {
     "data": {
      "text/plain": [
       "[1, 2, 3, 4, 'power', True, 'one', 'two', 'Three', 'Data', False]"
      ]
     },
     "execution_count": 254,
     "metadata": {},
     "output_type": "execute_result"
    }
   ],
   "source": [
    "Master_List"
   ]
  },
  {
   "cell_type": "code",
   "execution_count": 262,
   "id": "2bdd55c3-4b31-4a09-8c56-d2bd48fc5ae7",
   "metadata": {},
   "outputs": [
    {
     "name": "stdout",
     "output_type": "stream",
     "text": [
      "1\n",
      "2\n",
      "3\n",
      "4\n",
      "power\n",
      "True\n",
      "one\n",
      "two\n",
      "Three\n",
      "Data\n",
      "False\n"
     ]
    }
   ],
   "source": [
    "for i in(Master_List):\n",
    "    print(i)"
   ]
  },
  {
   "cell_type": "code",
   "execution_count": 267,
   "id": "3fc621f1-1275-4926-ad0a-bfabbe89e131",
   "metadata": {},
   "outputs": [
    {
     "name": "stdout",
     "output_type": "stream",
     "text": [
      "No,Data is Not present\n"
     ]
    }
   ],
   "source": [
    "if'Data'in(\"Master_list\"):\n",
    "    print(\"Yes,Data is present\")\n",
    "else:\n",
    "    print(\"No,Data is Not present\")"
   ]
  },
  {
   "cell_type": "code",
   "execution_count": null,
   "id": "5c517fe6-1371-430b-bf3c-7d55ee855c8c",
   "metadata": {},
   "outputs": [],
   "source": []
  }
 ],
 "metadata": {
  "kernelspec": {
   "display_name": "Python [conda env:base] *",
   "language": "python",
   "name": "conda-base-py"
  },
  "language_info": {
   "codemirror_mode": {
    "name": "ipython",
    "version": 3
   },
   "file_extension": ".py",
   "mimetype": "text/x-python",
   "name": "python",
   "nbconvert_exporter": "python",
   "pygments_lexer": "ipython3",
   "version": "3.13.5"
  }
 },
 "nbformat": 4,
 "nbformat_minor": 5
}
