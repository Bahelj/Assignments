{
 "cells": [
  {
   "cell_type": "code",
   "execution_count": 31,
   "id": "0c35bb5e-ff97-4df9-a7be-d16f4a0eafeb",
   "metadata": {},
   "outputs": [],
   "source": [
    "Name=\"JB\""
   ]
  },
  {
   "cell_type": "code",
   "execution_count": 32,
   "id": "ea78f7c4-6b34-4016-a6d9-d7a35a826890",
   "metadata": {},
   "outputs": [],
   "source": [
    "Phone=\"IP15\""
   ]
  },
  {
   "cell_type": "code",
   "execution_count": 33,
   "id": "5ab5b3c4-1a68-4b1e-b158-a5d9eb4fee82",
   "metadata": {},
   "outputs": [],
   "source": [
    "Style=\"Basic\""
   ]
  },
  {
   "cell_type": "code",
   "execution_count": 34,
   "id": "90e9f802-83d2-4872-92df-564297d3f7ea",
   "metadata": {},
   "outputs": [],
   "source": [
    "Education=\"PHD in Psychology\""
   ]
  },
  {
   "cell_type": "code",
   "execution_count": 35,
   "id": "b5606260-a838-4ce2-859a-1c2fa21d8bd7",
   "metadata": {},
   "outputs": [],
   "source": [
    "Car=\"Tata Punch\""
   ]
  },
  {
   "cell_type": "code",
   "execution_count": 42,
   "id": "77401d10-d089-4a41-aa2d-095b9c712c86",
   "metadata": {},
   "outputs": [],
   "source": [
    "import builtins"
   ]
  },
  {
   "cell_type": "code",
   "execution_count": 43,
   "id": "02544c1e-891d-4657-ae64-7a2cf5ddfc55",
   "metadata": {},
   "outputs": [],
   "source": [
    "print = builtins.print"
   ]
  },
  {
   "cell_type": "code",
   "execution_count": 44,
   "id": "12eefa21-e379-453a-a260-b0b755d11258",
   "metadata": {},
   "outputs": [
    {
     "name": "stdout",
     "output_type": "stream",
     "text": [
      "JB IP15 Basic PHD in Psychology Tata Punch\n"
     ]
    }
   ],
   "source": [
    "print(Name,Phone,Style,Education,Car)"
   ]
  },
  {
   "cell_type": "markdown",
   "id": "e9fa346f-1ec0-4232-b8ed-3b5982feeb5e",
   "metadata": {},
   "source": [
    "\n",
    "Without the assignment operator `=` between `print` and the tuple."
   ]
  },
  {
   "cell_type": "code",
   "execution_count": null,
   "id": "58b8e310-5f12-4f75-bf5c-376b7ed0b0f0",
   "metadata": {},
   "outputs": [],
   "source": []
  }
 ],
 "metadata": {
  "kernelspec": {
   "display_name": "Python [conda env:base] *",
   "language": "python",
   "name": "conda-base-py"
  },
  "language_info": {
   "codemirror_mode": {
    "name": "ipython",
    "version": 3
   },
   "file_extension": ".py",
   "mimetype": "text/x-python",
   "name": "python",
   "nbconvert_exporter": "python",
   "pygments_lexer": "ipython3",
   "version": "3.13.5"
  }
 },
 "nbformat": 4,
 "nbformat_minor": 5
}
